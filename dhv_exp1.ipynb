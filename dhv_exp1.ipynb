{
  "nbformat": 4,
  "nbformat_minor": 0,
  "metadata": {
    "colab": {
      "private_outputs": true,
      "provenance": [],
      "include_colab_link": true
    },
    "kernelspec": {
      "name": "python3",
      "display_name": "Python 3"
    },
    "language_info": {
      "name": "python"
    }
  },
  "cells": [
    {
      "cell_type": "markdown",
      "metadata": {
        "id": "view-in-github",
        "colab_type": "text"
      },
      "source": [
        "<a href=\"https://colab.research.google.com/github/vineethsagar18/20221COM0115/blob/main/dhv_exp1.ipynb\" target=\"_parent\"><img src=\"https://colab.research.google.com/assets/colab-badge.svg\" alt=\"Open In Colab\"/></a>"
      ]
    },
    {
      "cell_type": "code",
      "metadata": {
        "id": "f9ByC-oSdPDZ"
      },
      "source": [
        "!pip install matplotlib==3.4"
      ],
      "execution_count": null,
      "outputs": []
    },
    {
      "cell_type": "code",
      "metadata": {
        "id": "vXUEp4BYxNNl"
      },
      "source": [
        "from matplotlib import pyplot as plt\n",
        "plt.style.use('seaborn-whitegrid')\n",
        "\n",
        "import numpy as np\n",
        "print(\"step 1\")"
      ],
      "execution_count": null,
      "outputs": []
    },
    {
      "cell_type": "code",
      "metadata": {
        "id": "HWvhdFOLI6nO"
      },
      "source": [
        "fig = plt.figure()\n",
        "ax = plt.axes()\n",
        "ax.grid()"
      ],
      "execution_count": null,
      "outputs": []
    },
    {
      "cell_type": "code",
      "metadata": {
        "id": "XyAbGxiOGu1-"
      },
      "source": [
        "fig = plt.figure()\n",
        "ax = plt.axes()\n",
        "\n",
        "x = np.linspace(0, 10, 1000)\n",
        "ax.plot(x, np.sin(x));"
      ],
      "execution_count": null,
      "outputs": []
    },
    {
      "cell_type": "code",
      "metadata": {
        "id": "IJOv1BEzFk_Y"
      },
      "source": [
        "\n",
        "\n",
        "fig = plt.figure()\n",
        "ax = plt.axes()\n",
        "\n",
        "x = np.linspace(0, 10, 1000)\n",
        "ax.plot(x, np.sin(x))\n",
        "ax.set_title('Simple Plot')\n",
        "ax.set_xlabel('x label')\n",
        "ax.set_ylabel('y label');"
      ],
      "execution_count": null,
      "outputs": []
    },
    {
      "cell_type": "code",
      "metadata": {
        "id": "So_xW71nGg-N"
      },
      "source": [
        "\n",
        "fig = plt.figure()\n",
        "ax = plt.axes()\n",
        "\n",
        "x = np.linspace(0, 10, 1000)\n",
        "ax.plot(x, np.sin(x))\n",
        "ax.plot(x, np.cos(x))\n",
        "#ax.plot(x, np.tan(x))\n",
        "ax.set_title('Multiple Lines');\n",
        "ax.set_xlabel('x label')\n",
        "ax.set_ylabel('y label')\n",
        "plt.show()"
      ],
      "execution_count": null,
      "outputs": []
    },
    {
      "cell_type": "code",
      "metadata": {
        "id": "j3dVf8_3Hwcd"
      },
      "source": [
        "fig = plt.figure()\n",
        "ax = plt.axes()\n",
        "\n",
        "x = np.linspace(0, 10, 1000)\n",
        "ax.plot(x, np.sin(x), label = 'sin')\n",
        "ax.plot(x, np.cos(x), label = 'cos')\n",
        "ax.set_title('Multiple Lines');\n",
        "ax.set_xlabel('x label')\n",
        "ax.set_ylabel('y label')\n",
        "ax.legend()\n",
        "# ax.legend(loc=1)\n",
        "plt.show()"
      ],
      "execution_count": null,
      "outputs": []
    },
    {
      "cell_type": "code",
      "metadata": {
        "id": "zt4_CjuYK7qK"
      },
      "source": [
        "fig = plt.figure()\n",
        "ax = plt.axes()\n",
        "\n",
        "x = np.linspace(0, 10, 1000)\n",
        "ax.plot(x, np.sin(x), label = 'sin', color = 'red')\n",
        "ax.plot(x, np.cos(x), label = 'cos', color = 'g')\n",
        "ax.set_title('Multiple Lines');\n",
        "ax.set_xlabel('x label')\n",
        "ax.set_ylabel('y label')\n",
        "ax.legend();\n"
      ],
      "execution_count": null,
      "outputs": []
    },
    {
      "cell_type": "code",
      "metadata": {
        "id": "6QhNvKo8Ln8c"
      },
      "source": [
        "fig = plt.figure()\n",
        "ax = plt.axes()\n",
        "\n",
        "\n",
        "x = np.linspace(0, 10, 1000)\n",
        "ax.plot(x, np.sin(x), label = 'sin', linestyle = 'dashed')\n",
        "ax.plot(x, np.cos(x), label = 'cos', linestyle = 'dotted')\n",
        "ax.plot(x, np.sin(x+1), label = 'cos', linestyle = 'dashdot')\n",
        "ax.set_title('Multiple Lines');\n",
        "ax.set_xlabel('x label')\n",
        "ax.set_ylabel('y label')\n",
        "ax.legend();"
      ],
      "execution_count": null,
      "outputs": []
    },
    {
      "cell_type": "code",
      "metadata": {
        "id": "5kKnHjIpOayZ"
      },
      "source": [
        "fig = plt.figure()\n",
        "ax = plt.axes()\n",
        "\n",
        "x = np.linspace(0, 10, 1000)\n",
        "ax.plot(x, np.sin(x))\n",
        "\n",
        "ax.set_xlim(-5, 15)\n",
        "ax.set_ylim(-3, 3);"
      ],
      "execution_count": null,
      "outputs": []
    },
    {
      "cell_type": "code",
      "metadata": {
        "id": "WdYQ65NnE8c2"
      },
      "source": [
        "fig, ax = plt.subplots()"
      ],
      "execution_count": null,
      "outputs": []
    },
    {
      "cell_type": "code",
      "metadata": {
        "id": "ClssL6i2RbYS"
      },
      "source": [
        "\n",
        "fig, axs = plt.subplots(2, 2, figsize=(10,6))\n",
        "x = np.linspace(0, 10, 1000)\n",
        "\n",
        "axs[0,0].plot(x, np.sin(x))\n",
        "\n",
        "axs[0,1].plot(x, np.cos(x), color = 'maroon')\n",
        "\n",
        "axs[1,0].plot(x, np.sin(x+2), color = 'blue')\n",
        "\n",
        "axs[1,1].plot(x, np.sin(x+4), color = 'green');\n"
      ],
      "execution_count": null,
      "outputs": []
    },
    {
      "cell_type": "code",
      "metadata": {
        "id": "Bx1kJdn0TnpW"
      },
      "source": [
        "data = {'Apple': 10, 'Orange': 15, 'Lemon': 5, 'Lime': 20}\n",
        "names = list(data.keys())\n",
        "values = list(data.values())\n",
        "\n",
        "fig = plt.figure()\n",
        "ax = plt.axes()\n",
        "\n",
        "ax.bar(names, values);"
      ],
      "execution_count": null,
      "outputs": []
    },
    {
      "cell_type": "code",
      "metadata": {
        "id": "ZGmdlQk0Vlao"
      },
      "source": [
        "data = {'Apple': 10, 'Orange': 15, 'Lemon': 5, 'Lime': 20}\n",
        "names = list(data.keys())\n",
        "values = list(data.values())\n",
        "\n",
        "fig = plt.figure(figsize=(4,3))\n",
        "ax = plt.axes()\n",
        "\n",
        "ax.bar(names, values, color='teal', width = 0.35);\n",
        "ax.set_xlabel('Fruit')\n",
        "ax.set_ylabel('Quantity')\n",
        "ax.set_title('Fruit Quantities');"
      ],
      "execution_count": null,
      "outputs": []
    },
    {
      "cell_type": "code",
      "metadata": {
        "id": "sHM9ZE8TWnjA"
      },
      "source": [
        "data = {'Apple': 10,\n",
        "        'Orange': 15,\n",
        "        'Banana': 13,\n",
        "        'Pear': 9,\n",
        "        'Pomegrante': 11,\n",
        "        'Lemon': 5,\n",
        "        'Lime': 20}\n",
        "names = list(data.keys())\n",
        "values = list(data.values())\n",
        "\n",
        "ax = plt.axes()\n",
        "\n",
        "ax.barh(names, values)\n",
        "ax.set_xlabel('Quantity')\n",
        "ax.set_ylabel('Fruit')\n",
        "ax.set_title('Fruit Quantities');"
      ],
      "execution_count": null,
      "outputs": []
    },
    {
      "cell_type": "code",
      "metadata": {
        "id": "2dRCDzzjakDL"
      },
      "source": [
        "labels = ['G1', 'G2', 'G3', 'G4', 'G5']\n",
        "men_means = [20, 34, 30, 35, 27]\n",
        "women_means = [25, 32, 34, 20, 25]\n",
        "\n",
        "x = np.arange(len(labels))\n",
        "width = 0.25\n",
        "\n",
        "fig, ax = plt.subplots()\n",
        "rects1 = ax.bar(x - width/2, men_means, width, label='Men')\n",
        "rects2 = ax.bar(x + width/2, women_means, width, label='Women')\n",
        "\n",
        "\n",
        "ax.set_ylabel('Scores')\n",
        "ax.set_title('Scores by group and gender')\n",
        "ax.set_xticks(x)\n",
        "ax.set_xticklabels(labels)\n",
        "ax.legend();\n"
      ],
      "execution_count": null,
      "outputs": []
    },
    {
      "cell_type": "code",
      "metadata": {
        "id": "11xd6sQgeC34"
      },
      "source": [
        "fig, ax = plt.subplots()\n",
        "\n",
        "ax.grid(linestyle='--', color='0.75', axis = 'y')\n",
        "\n",
        "ax.set_axisbelow(True)\n",
        "\n",
        "rects1 = ax.bar(x - width/2, men_means, width, label='Men')\n",
        "rects2 = ax.bar(x + width/2, women_means, width, label='Women')\n",
        "\n",
        "ax.set_ylabel('Scores')\n",
        "ax.set_title('Scores by group and gender')\n",
        "ax.set_xticks(x)\n",
        "ax.set_xticklabels(labels)\n",
        "\n",
        "ax.legend()\n",
        "\n",
        "ax.bar_label(rects1, padding=3)\n",
        "ax.bar_label(rects2, padding=3)\n",
        "\n",
        "ax.set_ylim(0,40);"
      ],
      "execution_count": null,
      "outputs": []
    },
    {
      "cell_type": "code",
      "metadata": {
        "id": "p8S_04sebotM"
      },
      "source": [
        "fig, ax = plt.subplots()\n",
        "ax.grid(linestyle='--', color='0.75', axis = 'y');\n",
        "\n",
        "ax.set_axisbelow(True)\n",
        "\n",
        "p1 = ax.bar(labels, men_means, width, label='Men')\n",
        "p2 = ax.bar(labels, women_means, width, bottom=men_means,\n",
        "       label='Women')\n",
        "\n",
        "ax.set_ylabel('Scores')\n",
        "ax.set_title('Scores by group and gender')\n",
        "ax.legend()\n",
        "\n",
        "ax.bar_label(p1, label_type='center')\n",
        "ax.bar_label(p2, label_type='center')\n",
        "ax.bar_label(p2)\n",
        "ax.set_ylim(0,70);"
      ],
      "execution_count": null,
      "outputs": []
    },
    {
      "cell_type": "code",
      "metadata": {
        "id": "FN7F5QNVEl-m"
      },
      "source": [
        "x = np.random.randn(20)\n",
        "y = np.random.randn(20)\n"
      ],
      "execution_count": null,
      "outputs": []
    },
    {
      "cell_type": "code",
      "metadata": {
        "id": "-qs6j_hxo6Pp"
      },
      "source": [
        "fig, ax = plt.subplots()\n",
        "ax.scatter(x, y);"
      ],
      "execution_count": null,
      "outputs": []
    },
    {
      "cell_type": "code",
      "metadata": {
        "id": "ewdm2yYEEkYa"
      },
      "source": [
        "fig, ax = plt.subplots()\n",
        "ax.scatter(x, y, marker = 'x');"
      ],
      "execution_count": null,
      "outputs": []
    },
    {
      "cell_type": "code",
      "metadata": {
        "id": "CpZf0b2NFROZ"
      },
      "source": [
        "\n",
        "\n",
        "fig, axs = plt.subplots(2, 3, sharex=True, sharey=True, figsize=(16,12));\n",
        "\n",
        "axs[0, 0].scatter(x, y, s=80, marker=\">\")\n",
        "axs[0, 0].set_title(\"marker='>'\")\n",
        "\n",
        "axs[0, 1].scatter(x, y, s=80, marker=r'$\\alpha$')\n",
        "axs[0, 1].set_title(r\"marker=r'\\$\\alpha\\$'\")\n",
        "\n",
        "verts = [[-1, -1], [1, -1], [1, 1], [-1, -1]]\n",
        "axs[0, 2].scatter(x, y, s=80, marker=verts)\n",
        "axs[0, 2].set_title(\"marker=verts\")\n",
        "\n",
        "axs[1, 0].scatter(x, y, s=80, marker=(5, 0))\n",
        "axs[1, 0].set_title(\"marker=(5, 0)\")\n",
        "\n",
        "axs[1, 1].scatter(x, y, s=80, marker=(5, 1))\n",
        "axs[1, 1].set_title(\"marker=(5, 1)\")\n",
        "\n",
        "axs[1, 2].scatter(x, y, s=80, marker=(5, 2))\n",
        "axs[1, 2].set_title(\"marker=(5, 2)\");"
      ],
      "execution_count": null,
      "outputs": []
    },
    {
      "cell_type": "code",
      "metadata": {
        "id": "vQvN8paDJG92"
      },
      "source": [
        "plt.style.use('seaborn-darkgrid')\n",
        "\n",
        "z1 = np.sqrt(x**2 + y**2)\n",
        "\n",
        "fig, ax = plt.subplots()\n",
        "pos = ax.scatter(x, y, c=z1, cmap='cool', marker='3')\n",
        "\n",
        "fig.colorbar(pos);"
      ],
      "execution_count": null,
      "outputs": []
    },
    {
      "cell_type": "code",
      "metadata": {
        "id": "rqn657WkNvX1"
      },
      "source": [
        "x = np.random.randn(100)\n",
        "y = np.random.randn(100)\n",
        "\n",
        "z1 = np.sqrt(x**2 + y**2)\n",
        "z2 = np.random.randint(10, 200, size=len(x))"
      ],
      "execution_count": null,
      "outputs": []
    },
    {
      "cell_type": "code",
      "metadata": {
        "id": "t0llqKCKzQgi"
      },
      "source": [
        "fig, ax = plt.subplots()\n",
        "pos = ax.scatter(x, y, c=z1, s=z2, alpha = 0.55, cmap='viridis')\n",
        "fig.colorbar(pos);"
      ],
      "execution_count": null,
      "outputs": []
    },
    {
      "cell_type": "code",
      "metadata": {
        "id": "VnOtbgS7OloE"
      },
      "source": [
        "x = np.linspace(0, 10, 30)\n",
        "y = np.sin(x)\n",
        "\n",
        "plt.plot(x, y, 'o', color='violet');"
      ],
      "execution_count": null,
      "outputs": []
    },
    {
      "cell_type": "code",
      "metadata": {
        "id": "kmsbbkvCOzez"
      },
      "source": [
        "plt.plot(x, y, 'o-', color='maroon');"
      ],
      "execution_count": null,
      "outputs": []
    },
    {
      "cell_type": "code",
      "metadata": {
        "id": "nWjCzKEoRznr"
      },
      "source": [
        "\n",
        "\n",
        "spread = np.random.rand(50) * 100\n",
        "center = np.ones(25) * 50\n",
        "flier_high = np.random.rand(10) * 100 + 100\n",
        "flier_low = np.random.rand(10) * -100\n",
        "data = np.concatenate((spread, center, flier_high, flier_low))\n"
      ],
      "execution_count": null,
      "outputs": []
    },
    {
      "cell_type": "code",
      "metadata": {
        "id": "BdAzyl1LSRXG"
      },
      "source": [
        "\n",
        "\n",
        "fig, ax = plt.subplots()\n",
        "ax.boxplot(data)\n",
        "ax.set_title('Basic Box Plot');"
      ],
      "execution_count": null,
      "outputs": []
    },
    {
      "cell_type": "code",
      "metadata": {
        "id": "aeo9kyqSzUXI"
      },
      "source": [
        "\n",
        "\n",
        "fig, ax = plt.subplots()\n",
        "ax.boxplot(data, 1)\n",
        "ax.set_title('Notched Box Plot');"
      ],
      "execution_count": null,
      "outputs": []
    },
    {
      "cell_type": "code",
      "metadata": {
        "id": "5FUfvW1ETMhc"
      },
      "source": [
        "\n",
        "\n",
        "fig, ax = plt.subplots()\n",
        "ax.boxplot(data, 1, '')\n",
        "ax.set_title('Notched Box Plot without Outliers');"
      ],
      "execution_count": null,
      "outputs": []
    },
    {
      "cell_type": "code",
      "metadata": {
        "id": "1xKoY0_yUOmq"
      },
      "source": [
        "\n",
        "\n",
        "fig, ax = plt.subplots()\n",
        "ax.boxplot(data, 0, 'gD')\n",
        "ax.set_title('Boxplot with different symbol for outliers');"
      ],
      "execution_count": null,
      "outputs": []
    },
    {
      "cell_type": "code",
      "metadata": {
        "id": "C9BLfT54Umey"
      },
      "source": [
        "\n",
        "fig, ax = plt.subplots()\n",
        "ax.boxplot(data, 0, 'rs', 0)\n",
        "ax.set_title('Horizontal box plot')"
      ],
      "execution_count": null,
      "outputs": []
    },
    {
      "cell_type": "code",
      "metadata": {
        "id": "V8Tm0BolUvYj"
      },
      "source": [
        "collectn_1 = np.random.normal(100, 10, 200)\n",
        "collectn_2 = np.random.normal(80, 30, 200)\n",
        "collectn_3 = np.random.normal(90, 20, 200)\n",
        "collectn_4 = np.random.normal(70, 25, 200)\n",
        "\n",
        "\n",
        "data_to_plot = [collectn_1, collectn_2, collectn_3, collectn_4]\n"
      ],
      "execution_count": null,
      "outputs": []
    },
    {
      "cell_type": "code",
      "metadata": {
        "id": "5E0QKaMkVFK3"
      },
      "source": [
        "fig, ax = plt.subplots()\n",
        "ax.boxplot(data_to_plot);"
      ],
      "execution_count": null,
      "outputs": []
    },
    {
      "cell_type": "code",
      "metadata": {
        "id": "gFbC55rTVXlR"
      },
      "source": [
        "fig, ax = plt.subplots()\n",
        "bp = ax.violinplot(data_to_plot, showmedians=True);"
      ],
      "execution_count": null,
      "outputs": []
    },
    {
      "cell_type": "markdown",
      "metadata": {
        "id": "6IEfdsc_bqkg"
      },
      "source": [
        "####Iris dataset"
      ]
    },
    {
      "cell_type": "code",
      "metadata": {
        "id": "49nifogZbHdX"
      },
      "source": [
        "import sklearn\n",
        "import pandas as pd\n",
        "import numpy as np\n",
        "\n",
        "from sklearn import datasets\n",
        "\n",
        "\n",
        "iris = datasets.load_iris()\n",
        "\n",
        "iris_df = pd.DataFrame(data= np.c_[iris['data'], iris['target']],\n",
        "                     columns= iris['feature_names'] + ['label'])\n",
        "\n",
        "iris_df['label_names'] = iris_df['label'].apply(lambda x: iris.target_names[int(x)])\n",
        "\n",
        "\n",
        "display(iris_df)"
      ],
      "execution_count": null,
      "outputs": []
    },
    {
      "cell_type": "code",
      "metadata": {
        "id": "eASPNiL9bU-r"
      },
      "source": [
        "\n",
        "import matplotlib.pyplot as plt\n",
        "\n",
        "colours = ['orange', 'blue', 'green']\n",
        "species = iris.target_names\n",
        "\n",
        "f = plt.figure(figsize=(8,6))\n",
        "\n",
        "for i in range(0, 3):\n",
        "    species_df = iris_df[iris_df['label'] == i]\n",
        "    plt.scatter(\n",
        "        species_df['petal length (cm)'],\n",
        "        species_df['sepal length (cm)'],\n",
        "        color=colours[i],\n",
        "        alpha=0.5,\n",
        "        label=species[i]\n",
        "    )\n",
        "plt.xlabel('petal length (cm)')\n",
        "plt.ylabel('sepal length (cm)')\n",
        "plt.title('Iris dataset: petal length vs sepal length')\n",
        "plt.legend(loc='lower right')\n",
        "plt.show()"
      ],
      "execution_count": null,
      "outputs": []
    },
    {
      "cell_type": "code",
      "metadata": {
        "id": "EnhOPF2Lbkf4"
      },
      "source": [
        "\n",
        "\n",
        "import seaborn as sns\n",
        "\n",
        "sns.set_style(\"darkgrid\")\n",
        "sns.pairplot(iris_df[iris.feature_names + ['label_names']], hue=\"label_names\",height=3);"
      ],
      "execution_count": null,
      "outputs": []
    },
    {
      "cell_type": "code",
      "metadata": {
        "id": "ayuGSz07cAf4"
      },
      "source": [
        "from google.colab import drive\n",
        "\n",
        "\n",
        "cars_df = pd.read_csv('/content/drive/My Drive/data/cars.csv', index_col=0)"
      ],
      "execution_count": null,
      "outputs": []
    },
    {
      "cell_type": "code",
      "metadata": {
        "id": "EpKWVdPzcGSg"
      },
      "source": [
        "\n",
        "cars_df.head(20)"
      ],
      "execution_count": null,
      "outputs": []
    },
    {
      "cell_type": "code",
      "metadata": {
        "id": "mwFPpqWhcwOs"
      },
      "source": [
        "fig, ax = plt.subplots(figsize=(16,10))\n",
        "\n",
        "graph = sns.countplot(x='state',\n",
        "              data=cars_df,\n",
        "              ax=ax,\n",
        "              order=cars_df.state.value_counts().index)\n",
        "graph.set_xticklabels(graph.get_xticklabels(),rotation=90)\n",
        "\n",
        "for p in graph.patches:\n",
        "    height = p.get_height()\n",
        "    graph.text(p.get_x()+p.get_width()/2., height + 0.1,height ,ha=\"center\")\n",
        "\n",
        "plt.show()"
      ],
      "execution_count": null,
      "outputs": []
    },
    {
      "cell_type": "code",
      "metadata": {
        "id": "WU0e5Fw0eggb"
      },
      "source": [
        "fig, ax = plt.subplots(figsize=(10,8))\n",
        "sns.violinplot(x ='title_status', y='price', data=cars_df)\n",
        "plt.show()"
      ],
      "execution_count": null,
      "outputs": []
    },
    {
      "cell_type": "code",
      "metadata": {
        "id": "nCDgYFuneo2-",
        "collapsed": true
      },
      "source": [
        "cars_df.loc[cars_df.groupby('color')['color'].transform('size') < 40, 'color'] = 'other'\n",
        "palette = ['white', 'gray', 'darkgray', 'silver', 'indianred',  'khaki', 'royalblue','orange']\n",
        "\n",
        "fig, ax = plt.subplots(figsize=(14,8))\n",
        "sns.boxplot(x ='price', y='color', data=cars_df, order = cars_df.color.value_counts().index, palette=palette)\n",
        "plt.show()"
      ],
      "execution_count": null,
      "outputs": []
    }
  ]
}